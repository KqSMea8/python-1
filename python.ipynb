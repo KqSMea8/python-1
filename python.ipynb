{
 "cells": [
  {
   "cell_type": "markdown",
   "metadata": {},
   "source": [
    "**import**\n",
    "- `from package import item`: item can be a sub-package, or a sub-module of a package, or other definitions in the package like function, class or variable.\n",
    "- `import item.subitem.subsubitem`: can only import package and sub-package / sub-module.\n",
    "- folders in a module has to include a `__init__.py` file in order to be imported as a folder package.\n",
    "- `from package import *`: if there's a `__all__` list inisde the `__init__.py`, only modules in the `__all__` list will be imported."
   ]
  },
  {
   "cell_type": "code",
   "execution_count": 1,
   "metadata": {
    "ExecuteTime": {
     "end_time": "2019-01-13T05:45:31.880469Z",
     "start_time": "2019-01-13T05:45:30.442655Z"
    }
   },
   "outputs": [],
   "source": [
    "import init_dac"
   ]
  },
  {
   "cell_type": "code",
   "execution_count": 73,
   "metadata": {
    "ExecuteTime": {
     "end_time": "2019-01-13T06:57:14.118086Z",
     "start_time": "2019-01-13T06:57:14.109897Z"
    }
   },
   "outputs": [
    {
     "data": {
      "text/plain": [
       "<module 'init_dac' from '/data01/jupyter/ShianLiao/init_dac.py'>"
      ]
     },
     "execution_count": 73,
     "metadata": {},
     "output_type": "execute_result"
    }
   ],
   "source": [
    "import imp\n",
    "imp.reload(init_dac)"
   ]
  },
  {
   "cell_type": "code",
   "execution_count": 3,
   "metadata": {
    "ExecuteTime": {
     "end_time": "2019-01-13T05:45:31.909471Z",
     "start_time": "2019-01-13T05:45:31.896570Z"
    }
   },
   "outputs": [
    {
     "data": {
      "text/plain": [
       "['BeautifulSoup',\n",
       " 'DBINFO',\n",
       " 'FDB_CONFIG',\n",
       " 'FDB_CONFIG_TAB',\n",
       " 'FDB_INPUT',\n",
       " 'Http',\n",
       " 'TreeNode',\n",
       " 'TreeNodeDecoder',\n",
       " 'TreeNodeEncoder',\n",
       " 'TreeNodeToJson',\n",
       " 'VERSION',\n",
       " '__builtins__',\n",
       " '__cached__',\n",
       " '__doc__',\n",
       " '__file__',\n",
       " '__loader__',\n",
       " '__name__',\n",
       " '__package__',\n",
       " '__spec__',\n",
       " 'addGoogleSheetTab',\n",
       " 'bomonth',\n",
       " 'chardet',\n",
       " 'clearGoogleSheetTabFilter',\n",
       " 'clearMySqlTable',\n",
       " 'clearSqliteTable',\n",
       " 'clearToSqlTable',\n",
       " 'client',\n",
       " 'codecs',\n",
       " 'cohen_d',\n",
       " 'combination',\n",
       " 'concatCsvFiles',\n",
       " 'convertTxtEncoding',\n",
       " 'copyGoogleSheetTab',\n",
       " 'countDistinct',\n",
       " 'createMySqlTableFrom',\n",
       " 'create_engine',\n",
       " 'csv',\n",
       " 'dataframe_to_rows',\n",
       " 'datetime',\n",
       " 'datetime_to_xldate',\n",
       " 'deleteFile',\n",
       " 'deleteGoogleSheetRange',\n",
       " 'deleteGoogleSheetTab',\n",
       " 'dfAggregate',\n",
       " 'dfFlattenMultiHeader',\n",
       " 'dfPivot',\n",
       " 'dfPrettify',\n",
       " 'dfSummarize',\n",
       " 'dfUnpivot',\n",
       " 'discovery',\n",
       " 'dotdict',\n",
       " 'dropMySqlTable',\n",
       " 'duplicateGoogleSheetTab',\n",
       " 'ecdf',\n",
       " 'edate',\n",
       " 'eomonth',\n",
       " 'excelRangeToRC',\n",
       " 'excelRcToRange',\n",
       " 'excelSheetDialog',\n",
       " 'factorial',\n",
       " 'file',\n",
       " 'fileDialog',\n",
       " 'filterDataFrame',\n",
       " 'formatNumberCn',\n",
       " 'formatNumberEn',\n",
       " 'freezeGoogleSheetTab',\n",
       " 'functools',\n",
       " 'getConnectedComponents',\n",
       " 'getCsv',\n",
       " 'getDateProgress',\n",
       " 'getDirFiles',\n",
       " 'getExcel',\n",
       " 'getExcelColumnName',\n",
       " 'getExcelRange',\n",
       " 'getExcelSheets',\n",
       " 'getExcelTabSize',\n",
       " 'getGoogleMapping',\n",
       " 'getGoogleSection',\n",
       " 'getGoogleSheet',\n",
       " 'getGoogleSheetId',\n",
       " 'getGoogleSheetName',\n",
       " 'getGoogleSheetTabId',\n",
       " 'getGoogleSheetTabSize',\n",
       " 'getGoogleSheetTabs',\n",
       " 'getGoogleSheetWorkbook',\n",
       " 'getGraph',\n",
       " 'getKCommunityComponents',\n",
       " 'getLinks',\n",
       " 'getMapping',\n",
       " 'getMySqlConnection',\n",
       " 'getMySqlTable',\n",
       " 'getNodes',\n",
       " 'getSection',\n",
       " 'getSimpleCycleComponents',\n",
       " 'getSqliteConnection',\n",
       " 'getSqliteTable',\n",
       " 'getTDates',\n",
       " 'getToSqlConnection',\n",
       " 'getToSqlTable',\n",
       " 'getTree',\n",
       " 'getTxtEncoding',\n",
       " 'getUrlData',\n",
       " 'getUrlDataAll',\n",
       " 'get_config',\n",
       " 'get_dbs',\n",
       " 'hideGoogleSheetTab',\n",
       " 'igraph',\n",
       " 'isExcelTabExist',\n",
       " 'isFileExist',\n",
       " 'isGoogleSheetTabExist',\n",
       " 'isGoogleSheetTabHidden',\n",
       " 'isListEmpty',\n",
       " 'json',\n",
       " 'jsonPrettify',\n",
       " 'mean_ci',\n",
       " 'mergeCsvFiles',\n",
       " 'months',\n",
       " 'mul',\n",
       " 'networkx',\n",
       " 'norm_pdf',\n",
       " 'np',\n",
       " 'openpyxl',\n",
       " 'os',\n",
       " 'pd',\n",
       " 'pivot_report',\n",
       " 'plot_ecdf',\n",
       " 'plt',\n",
       " 'putDfToGoogleSheet',\n",
       " 'putGoogleSheetCell',\n",
       " 'putGoogleSheetRange',\n",
       " 'putLog',\n",
       " 'putSection',\n",
       " 'putSqliteTable',\n",
       " 'putToSection',\n",
       " 'putToSqlTable',\n",
       " 'pyecharts',\n",
       " 'pymysql',\n",
       " 'random',\n",
       " 're',\n",
       " 'reindexGoogleSheetTab',\n",
       " 'removeDuplicates',\n",
       " 'renameGoogleSheet',\n",
       " 'renameGoogleSheetTab',\n",
       " 'requests',\n",
       " 'resizeGoogleSheetRange',\n",
       " 'sendLarkMessage',\n",
       " 'setGoogleSheetTabColor',\n",
       " 'setGoogleSheetTabFilter',\n",
       " 'setupService',\n",
       " 'sns',\n",
       " 'sp',\n",
       " 'splinter',\n",
       " 'sqlite3',\n",
       " 'sys',\n",
       " 'time',\n",
       " 'tools',\n",
       " 'useMySqlDb',\n",
       " 'vlookup',\n",
       " 'writeCsv',\n",
       " 'writeExcel',\n",
       " 'writeExcelRange',\n",
       " 'writeExcels',\n",
       " 'xldate_to_datetime']"
      ]
     },
     "execution_count": 3,
     "metadata": {},
     "output_type": "execute_result"
    }
   ],
   "source": [
    "dir(init_dac)"
   ]
  },
  {
   "cell_type": "code",
   "execution_count": 29,
   "metadata": {
    "ExecuteTime": {
     "end_time": "2019-01-13T06:01:43.828541Z",
     "start_time": "2019-01-13T06:01:43.824594Z"
    }
   },
   "outputs": [
    {
     "data": {
      "text/plain": [
       "'init_dac'"
      ]
     },
     "execution_count": 29,
     "metadata": {},
     "output_type": "execute_result"
    }
   ],
   "source": [
    "init_dac.__name__"
   ]
  },
  {
   "cell_type": "code",
   "execution_count": 4,
   "metadata": {
    "ExecuteTime": {
     "end_time": "2019-01-13T05:45:31.922725Z",
     "start_time": "2019-01-13T05:45:31.911785Z"
    },
    "scrolled": true
   },
   "outputs": [
    {
     "data": {
      "text/plain": [
       "['ArithmeticError',\n",
       " 'AssertionError',\n",
       " 'AttributeError',\n",
       " 'BaseException',\n",
       " 'BlockingIOError',\n",
       " 'BrokenPipeError',\n",
       " 'BufferError',\n",
       " 'BytesWarning',\n",
       " 'ChildProcessError',\n",
       " 'ConnectionAbortedError',\n",
       " 'ConnectionError',\n",
       " 'ConnectionRefusedError',\n",
       " 'ConnectionResetError',\n",
       " 'DeprecationWarning',\n",
       " 'EOFError',\n",
       " 'Ellipsis',\n",
       " 'EnvironmentError',\n",
       " 'Exception',\n",
       " 'False',\n",
       " 'FileExistsError',\n",
       " 'FileNotFoundError',\n",
       " 'FloatingPointError',\n",
       " 'FutureWarning',\n",
       " 'GeneratorExit',\n",
       " 'IOError',\n",
       " 'ImportError',\n",
       " 'ImportWarning',\n",
       " 'IndentationError',\n",
       " 'IndexError',\n",
       " 'InterruptedError',\n",
       " 'IsADirectoryError',\n",
       " 'KeyError',\n",
       " 'KeyboardInterrupt',\n",
       " 'LookupError',\n",
       " 'MemoryError',\n",
       " 'ModuleNotFoundError',\n",
       " 'NameError',\n",
       " 'None',\n",
       " 'NotADirectoryError',\n",
       " 'NotImplemented',\n",
       " 'NotImplementedError',\n",
       " 'OSError',\n",
       " 'OverflowError',\n",
       " 'PendingDeprecationWarning',\n",
       " 'PermissionError',\n",
       " 'ProcessLookupError',\n",
       " 'RecursionError',\n",
       " 'ReferenceError',\n",
       " 'ResourceWarning',\n",
       " 'RuntimeError',\n",
       " 'RuntimeWarning',\n",
       " 'StopAsyncIteration',\n",
       " 'StopIteration',\n",
       " 'SyntaxError',\n",
       " 'SyntaxWarning',\n",
       " 'SystemError',\n",
       " 'SystemExit',\n",
       " 'TabError',\n",
       " 'TimeoutError',\n",
       " 'True',\n",
       " 'TypeError',\n",
       " 'UnboundLocalError',\n",
       " 'UnicodeDecodeError',\n",
       " 'UnicodeEncodeError',\n",
       " 'UnicodeError',\n",
       " 'UnicodeTranslateError',\n",
       " 'UnicodeWarning',\n",
       " 'UserWarning',\n",
       " 'ValueError',\n",
       " 'Warning',\n",
       " 'ZeroDivisionError',\n",
       " '__IPYTHON__',\n",
       " '__build_class__',\n",
       " '__debug__',\n",
       " '__doc__',\n",
       " '__import__',\n",
       " '__loader__',\n",
       " '__name__',\n",
       " '__package__',\n",
       " '__spec__',\n",
       " 'abs',\n",
       " 'all',\n",
       " 'any',\n",
       " 'ascii',\n",
       " 'bin',\n",
       " 'bool',\n",
       " 'bytearray',\n",
       " 'bytes',\n",
       " 'callable',\n",
       " 'chr',\n",
       " 'classmethod',\n",
       " 'compile',\n",
       " 'complex',\n",
       " 'copyright',\n",
       " 'credits',\n",
       " 'delattr',\n",
       " 'dict',\n",
       " 'dir',\n",
       " 'display',\n",
       " 'divmod',\n",
       " 'enumerate',\n",
       " 'eval',\n",
       " 'exec',\n",
       " 'filter',\n",
       " 'float',\n",
       " 'format',\n",
       " 'frozenset',\n",
       " 'get_ipython',\n",
       " 'getattr',\n",
       " 'globals',\n",
       " 'hasattr',\n",
       " 'hash',\n",
       " 'help',\n",
       " 'hex',\n",
       " 'id',\n",
       " 'input',\n",
       " 'int',\n",
       " 'isinstance',\n",
       " 'issubclass',\n",
       " 'iter',\n",
       " 'len',\n",
       " 'license',\n",
       " 'list',\n",
       " 'locals',\n",
       " 'map',\n",
       " 'max',\n",
       " 'memoryview',\n",
       " 'min',\n",
       " 'next',\n",
       " 'object',\n",
       " 'oct',\n",
       " 'open',\n",
       " 'ord',\n",
       " 'pow',\n",
       " 'print',\n",
       " 'property',\n",
       " 'range',\n",
       " 'repr',\n",
       " 'reversed',\n",
       " 'round',\n",
       " 'set',\n",
       " 'setattr',\n",
       " 'slice',\n",
       " 'sorted',\n",
       " 'staticmethod',\n",
       " 'str',\n",
       " 'sum',\n",
       " 'super',\n",
       " 'tuple',\n",
       " 'type',\n",
       " 'vars',\n",
       " 'zip']"
      ]
     },
     "execution_count": 4,
     "metadata": {},
     "output_type": "execute_result"
    }
   ],
   "source": [
    "import builtins\n",
    "dir(builtins)"
   ]
  },
  {
   "cell_type": "code",
   "execution_count": 6,
   "metadata": {
    "ExecuteTime": {
     "end_time": "2019-01-13T05:45:59.798532Z",
     "start_time": "2019-01-13T05:45:59.794370Z"
    }
   },
   "outputs": [
    {
     "data": {
      "text/plain": [
       "'/data01/jupyter/ShianLiao'"
      ]
     },
     "execution_count": 6,
     "metadata": {},
     "output_type": "execute_result"
    }
   ],
   "source": [
    "init_dac.os.getcwd()"
   ]
  },
  {
   "cell_type": "code",
   "execution_count": 8,
   "metadata": {
    "ExecuteTime": {
     "end_time": "2019-01-13T05:46:17.791114Z",
     "start_time": "2019-01-13T05:46:17.786309Z"
    }
   },
   "outputs": [
    {
     "data": {
      "text/plain": [
       "['init_dac.py',\n",
       " 'init_fbi.py',\n",
       " 'data',\n",
       " '杂项任务.ipynb',\n",
       " '财务分析_BGT_v2.1.ipynb',\n",
       " '__pycache__',\n",
       " '财务人员Python入门培训.ipynb',\n",
       " '财务数仓_托管带宽接口_v4.ipynb',\n",
       " '租赁模型_v1.1.ipynb',\n",
       " '财务分析_RPT_v5.ipynb',\n",
       " '财务数仓_托管带宽接口_v4.py',\n",
       " '.ipynb_checkpoints',\n",
       " 'python.ipynb']"
      ]
     },
     "execution_count": 8,
     "metadata": {},
     "output_type": "execute_result"
    }
   ],
   "source": [
    "init_dac.os.listdir(init_dac.os.getcwd())"
   ]
  },
  {
   "cell_type": "code",
   "execution_count": 9,
   "metadata": {
    "ExecuteTime": {
     "end_time": "2019-01-13T05:46:26.450627Z",
     "start_time": "2019-01-13T05:46:26.446597Z"
    }
   },
   "outputs": [
    {
     "data": {
      "text/plain": [
       "['',\n",
       " '/root/.pyenv/versions/3.6.7/lib/python36.zip',\n",
       " '/root/.pyenv/versions/3.6.7/lib/python3.6',\n",
       " '/root/.pyenv/versions/3.6.7/lib/python3.6/lib-dynload',\n",
       " '/root/.pyenv/versions/3.6.7/envs/jupyter/lib/python3.6/site-packages',\n",
       " '/root/.pyenv/versions/3.6.7/envs/jupyter/lib/python3.6/site-packages/IPython/extensions',\n",
       " '/root/.ipython']"
      ]
     },
     "execution_count": 9,
     "metadata": {},
     "output_type": "execute_result"
    }
   ],
   "source": [
    "init_dac.sys.path"
   ]
  },
  {
   "cell_type": "code",
   "execution_count": 10,
   "metadata": {
    "ExecuteTime": {
     "end_time": "2019-01-13T05:46:49.418847Z",
     "start_time": "2019-01-13T05:46:49.414475Z"
    }
   },
   "outputs": [
    {
     "data": {
      "text/plain": [
       "('In : ', '...: ')"
      ]
     },
     "execution_count": 10,
     "metadata": {},
     "output_type": "execute_result"
    }
   ],
   "source": [
    "init_dac.sys.ps1, init_dac.sys.ps2"
   ]
  },
  {
   "cell_type": "code",
   "execution_count": 11,
   "metadata": {
    "ExecuteTime": {
     "end_time": "2019-01-13T05:46:51.298237Z",
     "start_time": "2019-01-13T05:46:51.294482Z"
    }
   },
   "outputs": [
    {
     "name": "stdout",
     "output_type": "stream",
     "text": [
      " a short description of the function\n",
      "    a long description of the function\n",
      "    \n"
     ]
    }
   ],
   "source": [
    "def my_function():\n",
    "    ''' a short description of the function\n",
    "    a long description of the function\n",
    "    '''\n",
    "    pass\n",
    "print(my_function.__doc__)"
   ]
  },
  {
   "cell_type": "code",
   "execution_count": 12,
   "metadata": {
    "ExecuteTime": {
     "end_time": "2019-01-13T05:46:53.249699Z",
     "start_time": "2019-01-13T05:46:53.246259Z"
    },
    "scrolled": true
   },
   "outputs": [
    {
     "name": "stdout",
     "output_type": "stream",
     "text": [
      "{'ham': 42, 'eggs': <class 'int'>, 'return': 'return annotations'}\n"
     ]
    }
   ],
   "source": [
    "def f(ham: 42, eggs: int) -> 'return annotations':\n",
    "    pass\n",
    "\n",
    "print(f.__annotations__)"
   ]
  },
  {
   "cell_type": "markdown",
   "metadata": {},
   "source": [
    "**list**\n",
    "- has no shuffle() method\n",
    "- use list as a stack with append() and pop()\n",
    "- use list as a queue with append() and pop(0)\n",
    "    - use collections.deque module for better performance"
   ]
  },
  {
   "cell_type": "code",
   "execution_count": 13,
   "metadata": {
    "ExecuteTime": {
     "end_time": "2019-01-13T05:47:05.098785Z",
     "start_time": "2019-01-13T05:47:05.094342Z"
    }
   },
   "outputs": [
    {
     "data": {
      "text/plain": [
       "[2, 6, 3, 8, 0, 5, 9, 1, 7, 4]"
      ]
     },
     "execution_count": 13,
     "metadata": {},
     "output_type": "execute_result"
    }
   ],
   "source": [
    "l = list(range(10))\n",
    "init_dac.random.shuffle(l)\n",
    "l"
   ]
  },
  {
   "cell_type": "code",
   "execution_count": 14,
   "metadata": {
    "ExecuteTime": {
     "end_time": "2019-01-13T05:47:06.938936Z",
     "start_time": "2019-01-13T05:47:06.934394Z"
    }
   },
   "outputs": [
    {
     "data": {
      "text/plain": [
       "[4, 7, 1, 9, 5, 0, 8, 3, 6, 2]"
      ]
     },
     "execution_count": 14,
     "metadata": {},
     "output_type": "execute_result"
    }
   ],
   "source": [
    "list(reversed(l))"
   ]
  },
  {
   "cell_type": "code",
   "execution_count": 15,
   "metadata": {
    "ExecuteTime": {
     "end_time": "2019-01-13T05:47:08.290333Z",
     "start_time": "2019-01-13T05:47:08.286154Z"
    }
   },
   "outputs": [
    {
     "data": {
      "text/plain": [
       "[0, 1, 2, 3, 4, 5, 6, 7, 8, 9]"
      ]
     },
     "execution_count": 15,
     "metadata": {},
     "output_type": "execute_result"
    }
   ],
   "source": [
    "list(sorted(l))"
   ]
  },
  {
   "cell_type": "code",
   "execution_count": 16,
   "metadata": {
    "ExecuteTime": {
     "end_time": "2019-01-13T05:47:09.859142Z",
     "start_time": "2019-01-13T05:47:09.854465Z"
    }
   },
   "outputs": [
    {
     "name": "stdout",
     "output_type": "stream",
     "text": [
      "deque(['Eric', 'John', 'Michael'])\n",
      "deque(['Eric', 'John', 'Michael', 'Terry'])\n",
      "deque(['Eric', 'John', 'Michael', 'Terry', 'Graham'])\n",
      "Eric\n",
      "deque(['John', 'Michael', 'Terry', 'Graham'])\n"
     ]
    }
   ],
   "source": [
    "from collections import deque\n",
    "queue = deque(['Eric', 'John', 'Michael'])\n",
    "print(queue)\n",
    "queue.append('Terry')\n",
    "print(queue)\n",
    "queue.append('Graham')\n",
    "print(queue)\n",
    "print(queue.popleft()) # no popright() method\n",
    "print(queue)"
   ]
  },
  {
   "cell_type": "markdown",
   "metadata": {},
   "source": [
    "**list comprehension**"
   ]
  },
  {
   "cell_type": "code",
   "execution_count": 17,
   "metadata": {
    "ExecuteTime": {
     "end_time": "2019-01-13T05:47:11.939105Z",
     "start_time": "2019-01-13T05:47:11.934450Z"
    }
   },
   "outputs": [
    {
     "data": {
      "text/plain": [
       "[0, 1, 4, 9, 16, 25, 36, 49, 64, 81]"
      ]
     },
     "execution_count": 17,
     "metadata": {},
     "output_type": "execute_result"
    }
   ],
   "source": [
    "list(map(lambda x: x**2, range(10)))\n",
    "# x won't be accessible afterwards,\n",
    "# unlike for x in range(10) loop"
   ]
  },
  {
   "cell_type": "code",
   "execution_count": 18,
   "metadata": {
    "ExecuteTime": {
     "end_time": "2019-01-13T05:47:12.749060Z",
     "start_time": "2019-01-13T05:47:12.744386Z"
    }
   },
   "outputs": [
    {
     "data": {
      "text/plain": [
       "[0, 1, 4, 9, 16, 25, 36, 49, 64, 81]"
      ]
     },
     "execution_count": 18,
     "metadata": {},
     "output_type": "execute_result"
    }
   ],
   "source": [
    "[x**2 for x in range(10)]"
   ]
  },
  {
   "cell_type": "code",
   "execution_count": 19,
   "metadata": {
    "ExecuteTime": {
     "end_time": "2019-01-13T05:47:13.905324Z",
     "start_time": "2019-01-13T05:47:13.900229Z"
    }
   },
   "outputs": [
    {
     "data": {
      "text/plain": [
       "[(1, 3), (1, 4), (2, 3), (2, 1), (2, 4), (3, 1), (3, 4)]"
      ]
     },
     "execution_count": 19,
     "metadata": {},
     "output_type": "execute_result"
    }
   ],
   "source": [
    "[(x, y) for x in [1, 2, 3] for y in [3, 1, 4] if x != y]"
   ]
  },
  {
   "cell_type": "code",
   "execution_count": 20,
   "metadata": {
    "ExecuteTime": {
     "end_time": "2019-01-13T05:47:14.805882Z",
     "start_time": "2019-01-13T05:47:14.801137Z"
    }
   },
   "outputs": [
    {
     "data": {
      "text/plain": [
       "[1, 2, 3, 4, 5, 6, 7, 8, 9]"
      ]
     },
     "execution_count": 20,
     "metadata": {},
     "output_type": "execute_result"
    }
   ],
   "source": [
    "# flat a list using a listcomp with two 'for'\n",
    "vec = [[1, 2, 3], [4, 5, 6], [7, 8, 9]]\n",
    "[num for elem in vec for num in elem]"
   ]
  },
  {
   "cell_type": "code",
   "execution_count": 54,
   "metadata": {
    "ExecuteTime": {
     "end_time": "2019-01-13T06:43:06.434554Z",
     "start_time": "2019-01-13T06:43:06.430057Z"
    }
   },
   "outputs": [
    {
     "data": {
      "text/plain": [
       "[1, 2, 3, 4, 5, 6, 7, 8, 9]"
      ]
     },
     "execution_count": 54,
     "metadata": {},
     "output_type": "execute_result"
    }
   ],
   "source": [
    "list(init_dac.itertools.chain.from_iterable(vec))"
   ]
  },
  {
   "cell_type": "code",
   "execution_count": 21,
   "metadata": {
    "ExecuteTime": {
     "end_time": "2019-01-13T05:47:15.492261Z",
     "start_time": "2019-01-13T05:47:15.486568Z"
    }
   },
   "outputs": [
    {
     "data": {
      "text/plain": [
       "[[1, 5, 9], [2, 6, 10], [3, 7, 11], [4, 8, 12]]"
      ]
     },
     "execution_count": 21,
     "metadata": {},
     "output_type": "execute_result"
    }
   ],
   "source": [
    "matrix = [\n",
    "    [1, 2, 3, 4],\n",
    "    [5, 6, 7, 8],\n",
    "    [9, 10, 11, 12]\n",
    "]\n",
    "[[row[i] for row in matrix] for i in range(len(matrix[0]))]"
   ]
  },
  {
   "cell_type": "code",
   "execution_count": 22,
   "metadata": {
    "ExecuteTime": {
     "end_time": "2019-01-13T05:47:16.846748Z",
     "start_time": "2019-01-13T05:47:16.842541Z"
    }
   },
   "outputs": [
    {
     "data": {
      "text/plain": [
       "[(1, 5, 9), (2, 6, 10), (3, 7, 11), (4, 8, 12)]"
      ]
     },
     "execution_count": 22,
     "metadata": {},
     "output_type": "execute_result"
    }
   ],
   "source": [
    "list(zip(*matrix))"
   ]
  },
  {
   "cell_type": "markdown",
   "metadata": {},
   "source": [
    "**set**"
   ]
  },
  {
   "cell_type": "code",
   "execution_count": 23,
   "metadata": {
    "ExecuteTime": {
     "end_time": "2019-01-13T05:47:17.710816Z",
     "start_time": "2019-01-13T05:47:17.706371Z"
    }
   },
   "outputs": [
    {
     "data": {
      "text/plain": [
       "({'a', 'b', 'c', 'd', 'r'}, {'a', 'c', 'l', 'm', 'z'})"
      ]
     },
     "execution_count": 23,
     "metadata": {},
     "output_type": "execute_result"
    }
   ],
   "source": [
    "a = set('abracadabra')\n",
    "b = set('alacazam')\n",
    "a, b"
   ]
  },
  {
   "cell_type": "code",
   "execution_count": 24,
   "metadata": {
    "ExecuteTime": {
     "end_time": "2019-01-13T05:47:18.329999Z",
     "start_time": "2019-01-13T05:47:18.326220Z"
    }
   },
   "outputs": [
    {
     "data": {
      "text/plain": [
       "{'b', 'd', 'r'}"
      ]
     },
     "execution_count": 24,
     "metadata": {},
     "output_type": "execute_result"
    }
   ],
   "source": [
    "a - b # set difference"
   ]
  },
  {
   "cell_type": "code",
   "execution_count": 25,
   "metadata": {
    "ExecuteTime": {
     "end_time": "2019-01-13T05:47:19.070135Z",
     "start_time": "2019-01-13T05:47:19.066208Z"
    }
   },
   "outputs": [
    {
     "data": {
      "text/plain": [
       "{'a', 'b', 'c', 'd', 'l', 'm', 'r', 'z'}"
      ]
     },
     "execution_count": 25,
     "metadata": {},
     "output_type": "execute_result"
    }
   ],
   "source": [
    "a | b # set union"
   ]
  },
  {
   "cell_type": "code",
   "execution_count": 26,
   "metadata": {
    "ExecuteTime": {
     "end_time": "2019-01-13T05:47:19.529195Z",
     "start_time": "2019-01-13T05:47:19.525501Z"
    }
   },
   "outputs": [
    {
     "data": {
      "text/plain": [
       "{'a', 'c'}"
      ]
     },
     "execution_count": 26,
     "metadata": {},
     "output_type": "execute_result"
    }
   ],
   "source": [
    "a & b # set intersection"
   ]
  },
  {
   "cell_type": "code",
   "execution_count": 27,
   "metadata": {
    "ExecuteTime": {
     "end_time": "2019-01-13T05:47:20.077334Z",
     "start_time": "2019-01-13T05:47:20.073616Z"
    },
    "scrolled": true
   },
   "outputs": [
    {
     "data": {
      "text/plain": [
       "{'b', 'd', 'l', 'm', 'r', 'z'}"
      ]
     },
     "execution_count": 27,
     "metadata": {},
     "output_type": "execute_result"
    }
   ],
   "source": [
    "a ^ b # set sysmetric difference"
   ]
  },
  {
   "cell_type": "code",
   "execution_count": 28,
   "metadata": {
    "ExecuteTime": {
     "end_time": "2019-01-13T05:47:20.643366Z",
     "start_time": "2019-01-13T05:47:20.639363Z"
    }
   },
   "outputs": [
    {
     "data": {
      "text/plain": [
       "True"
      ]
     },
     "execution_count": 28,
     "metadata": {},
     "output_type": "execute_result"
    }
   ],
   "source": [
    "3 < 4 == 4"
   ]
  },
  {
   "cell_type": "code",
   "execution_count": 32,
   "metadata": {
    "ExecuteTime": {
     "end_time": "2019-01-13T06:03:58.147028Z",
     "start_time": "2019-01-13T06:03:58.142512Z"
    },
    "scrolled": true
   },
   "outputs": [
    {
     "data": {
      "text/plain": [
       "'0.14285714285714285'"
      ]
     },
     "execution_count": 32,
     "metadata": {},
     "output_type": "execute_result"
    }
   ],
   "source": [
    "str(1 / 7)"
   ]
  },
  {
   "cell_type": "code",
   "execution_count": 33,
   "metadata": {
    "ExecuteTime": {
     "end_time": "2019-01-13T06:04:04.727637Z",
     "start_time": "2019-01-13T06:04:04.723530Z"
    }
   },
   "outputs": [
    {
     "data": {
      "text/plain": [
       "'0.14285714285714285'"
      ]
     },
     "execution_count": 33,
     "metadata": {},
     "output_type": "execute_result"
    }
   ],
   "source": [
    "repr(1 / 7)"
   ]
  },
  {
   "cell_type": "code",
   "execution_count": 34,
   "metadata": {
    "ExecuteTime": {
     "end_time": "2019-01-13T06:06:21.128727Z",
     "start_time": "2019-01-13T06:06:21.123632Z"
    }
   },
   "outputs": [
    {
     "name": "stdout",
     "output_type": "stream",
     "text": [
      " 1   1    1\n",
      " 2   4    8\n",
      " 3   9   27\n",
      " 4  16   64\n",
      " 5  25  125\n",
      " 6  36  216\n",
      " 7  49  343\n",
      " 8  64  512\n",
      " 9  81  729\n",
      "10 100 1000\n"
     ]
    }
   ],
   "source": [
    "for x in range(1, 11):\n",
    "    print(repr(x).rjust(2), repr(x**2).rjust(3), end=' ')\n",
    "    print(repr(x**3).rjust(4))"
   ]
  },
  {
   "cell_type": "code",
   "execution_count": 35,
   "metadata": {
    "ExecuteTime": {
     "end_time": "2019-01-13T06:07:18.220080Z",
     "start_time": "2019-01-13T06:07:18.215627Z"
    }
   },
   "outputs": [
    {
     "name": "stdout",
     "output_type": "stream",
     "text": [
      " 1   1    1\n",
      " 2   4    8\n",
      " 3   9   27\n",
      " 4  16   64\n",
      " 5  25  125\n",
      " 6  36  216\n",
      " 7  49  343\n",
      " 8  64  512\n",
      " 9  81  729\n",
      "10 100 1000\n"
     ]
    }
   ],
   "source": [
    "for x in range(1, 11):\n",
    "    print('{0:2d} {1:3d} {2:4d}'.format(x, x**2, x**3))"
   ]
  },
  {
   "cell_type": "code",
   "execution_count": 36,
   "metadata": {
    "ExecuteTime": {
     "end_time": "2019-01-13T06:08:36.276059Z",
     "start_time": "2019-01-13T06:08:36.271575Z"
    }
   },
   "outputs": [
    {
     "data": {
      "text/plain": [
       "('abc  ', ' abc ', '  abc')"
      ]
     },
     "execution_count": 36,
     "metadata": {},
     "output_type": "execute_result"
    }
   ],
   "source": [
    "'abc'.ljust(5), 'abc'.center(5), 'abc'.rjust(5)"
   ]
  },
  {
   "cell_type": "code",
   "execution_count": 37,
   "metadata": {
    "ExecuteTime": {
     "end_time": "2019-01-13T06:09:24.439828Z",
     "start_time": "2019-01-13T06:09:24.435492Z"
    }
   },
   "outputs": [
    {
     "data": {
      "text/plain": [
       "'-000003.14'"
      ]
     },
     "execution_count": 37,
     "metadata": {},
     "output_type": "execute_result"
    }
   ],
   "source": [
    "'-3.14'.zfill(10)"
   ]
  },
  {
   "cell_type": "code",
   "execution_count": 38,
   "metadata": {
    "ExecuteTime": {
     "end_time": "2019-01-13T06:19:42.067437Z",
     "start_time": "2019-01-13T06:19:42.063444Z"
    }
   },
   "outputs": [
    {
     "data": {
      "text/plain": [
       "'-000003.14'"
      ]
     },
     "execution_count": 38,
     "metadata": {},
     "output_type": "execute_result"
    }
   ],
   "source": [
    "_"
   ]
  },
  {
   "cell_type": "code",
   "execution_count": 39,
   "metadata": {
    "ExecuteTime": {
     "end_time": "2019-01-13T06:29:54.543188Z",
     "start_time": "2019-01-13T06:29:54.537857Z"
    }
   },
   "outputs": [
    {
     "data": {
      "text/plain": [
       "120"
      ]
     },
     "execution_count": 39,
     "metadata": {},
     "output_type": "execute_result"
    }
   ],
   "source": [
    "# find the factorial of any integer\n",
    "(lambda k: init_dac.functools.reduce(int.__mul__,\n",
    "    range(1, k + 1), 1))(5)"
   ]
  },
  {
   "cell_type": "code",
   "execution_count": 40,
   "metadata": {
    "ExecuteTime": {
     "end_time": "2019-01-13T06:33:16.742939Z",
     "start_time": "2019-01-13T06:33:16.737977Z"
    }
   },
   "outputs": [
    {
     "data": {
      "text/plain": [
       "4"
      ]
     },
     "execution_count": 40,
     "metadata": {},
     "output_type": "execute_result"
    }
   ],
   "source": [
    "# find the most frequently appeared number\n",
    "test = [1, 2, 3, 4, 2, 2, 3, 1, 4, 4, 4]\n",
    "max(set(test), key=test.count)"
   ]
  },
  {
   "cell_type": "code",
   "execution_count": 60,
   "metadata": {
    "ExecuteTime": {
     "end_time": "2019-01-13T06:47:38.114136Z",
     "start_time": "2019-01-13T06:47:38.109761Z"
    }
   },
   "outputs": [
    {
     "data": {
      "text/plain": [
       "(Counter({1: 2, 2: 3, 3: 2, 4: 4}), [(4, 4)])"
      ]
     },
     "execution_count": 60,
     "metadata": {},
     "output_type": "execute_result"
    }
   ],
   "source": [
    "c = init_dac.collections.Counter(test)\n",
    "c, c.most_common(1)"
   ]
  },
  {
   "cell_type": "code",
   "execution_count": 43,
   "metadata": {
    "ExecuteTime": {
     "end_time": "2019-01-13T06:34:03.642943Z",
     "start_time": "2019-01-13T06:34:03.638015Z"
    }
   },
   "outputs": [
    {
     "data": {
      "text/plain": [
       "3000"
      ]
     },
     "execution_count": 43,
     "metadata": {},
     "output_type": "execute_result"
    }
   ],
   "source": [
    "init_dac.sys.getrecursionlimit()"
   ]
  },
  {
   "cell_type": "code",
   "execution_count": 44,
   "metadata": {
    "ExecuteTime": {
     "end_time": "2019-01-13T06:34:50.162054Z",
     "start_time": "2019-01-13T06:34:50.157965Z"
    }
   },
   "outputs": [
    {
     "data": {
      "text/plain": [
       "80"
      ]
     },
     "execution_count": 44,
     "metadata": {},
     "output_type": "execute_result"
    }
   ],
   "source": [
    "init_dac.sys.getsizeof(init_dac)"
   ]
  },
  {
   "cell_type": "code",
   "execution_count": 47,
   "metadata": {
    "ExecuteTime": {
     "end_time": "2019-01-13T06:39:00.353939Z",
     "start_time": "2019-01-13T06:39:00.349978Z"
    }
   },
   "outputs": [
    {
     "data": {
      "text/plain": [
       "True"
      ]
     },
     "execution_count": 47,
     "metadata": {},
     "output_type": "execute_result"
    }
   ],
   "source": [
    "'http://www.google.com'.startswith(('http://',\n",
    "    'https://'))"
   ]
  },
  {
   "cell_type": "code",
   "execution_count": 61,
   "metadata": {
    "ExecuteTime": {
     "end_time": "2019-01-13T06:49:21.240609Z",
     "start_time": "2019-01-13T06:49:21.235600Z"
    }
   },
   "outputs": [
    {
     "data": {
      "text/plain": [
       "({'x': 1, 'y': 2, 'z': 3}, {'w': 2, 'z': 3, 'x': 3})"
      ]
     },
     "execution_count": 61,
     "metadata": {},
     "output_type": "execute_result"
    }
   ],
   "source": [
    "a = {'x': 1, 'y': 2, 'z': 3}\n",
    "b = {'w': 2, 'z': 4, 'x': 3, 'z': 3}\n",
    "a, b"
   ]
  },
  {
   "cell_type": "code",
   "execution_count": 62,
   "metadata": {
    "ExecuteTime": {
     "end_time": "2019-01-13T06:49:45.010303Z",
     "start_time": "2019-01-13T06:49:45.005890Z"
    }
   },
   "outputs": [
    {
     "data": {
      "text/plain": [
       "{'x', 'z'}"
      ]
     },
     "execution_count": 62,
     "metadata": {},
     "output_type": "execute_result"
    }
   ],
   "source": [
    "a.keys() & b.keys()"
   ]
  },
  {
   "cell_type": "code",
   "execution_count": 63,
   "metadata": {
    "ExecuteTime": {
     "end_time": "2019-01-13T06:49:56.355068Z",
     "start_time": "2019-01-13T06:49:56.350860Z"
    }
   },
   "outputs": [
    {
     "data": {
      "text/plain": [
       "{('z', 3)}"
      ]
     },
     "execution_count": 63,
     "metadata": {},
     "output_type": "execute_result"
    }
   ],
   "source": [
    "a.items() & b.items()"
   ]
  },
  {
   "cell_type": "code",
   "execution_count": 64,
   "metadata": {
    "ExecuteTime": {
     "end_time": "2019-01-13T06:50:23.233938Z",
     "start_time": "2019-01-13T06:50:23.229760Z"
    }
   },
   "outputs": [
    {
     "data": {
      "text/plain": [
       "{'y'}"
      ]
     },
     "execution_count": 64,
     "metadata": {},
     "output_type": "execute_result"
    }
   ],
   "source": [
    "a.keys() - b.keys()"
   ]
  },
  {
   "cell_type": "code",
   "execution_count": 67,
   "metadata": {
    "ExecuteTime": {
     "end_time": "2019-01-13T06:53:28.327506Z",
     "start_time": "2019-01-13T06:53:28.323027Z"
    }
   },
   "outputs": [
    {
     "data": {
      "text/plain": [
       "[('w', 2), ('x', 1), ('z', 3), ('y', 2)]"
      ]
     },
     "execution_count": 67,
     "metadata": {},
     "output_type": "execute_result"
    }
   ],
   "source": [
    "c = init_dac.collections.ChainMap(a, b)\n",
    "list(c.items())"
   ]
  },
  {
   "cell_type": "code",
   "execution_count": 68,
   "metadata": {
    "ExecuteTime": {
     "end_time": "2019-01-13T06:53:36.834274Z",
     "start_time": "2019-01-13T06:53:36.829992Z"
    }
   },
   "outputs": [
    {
     "data": {
      "text/plain": [
       "[{'x': 1, 'y': 2, 'z': 3}, {'w': 2, 'z': 3, 'x': 3}]"
      ]
     },
     "execution_count": 68,
     "metadata": {},
     "output_type": "execute_result"
    }
   ],
   "source": [
    "c.maps"
   ]
  },
  {
   "cell_type": "code",
   "execution_count": 69,
   "metadata": {
    "ExecuteTime": {
     "end_time": "2019-01-13T06:54:17.894378Z",
     "start_time": "2019-01-13T06:54:17.890144Z"
    }
   },
   "outputs": [
    {
     "data": {
      "text/plain": [
       "ChainMap({}, {'x': 1, 'y': 2, 'z': 3}, {'w': 2, 'z': 3, 'x': 3})"
      ]
     },
     "execution_count": 69,
     "metadata": {},
     "output_type": "execute_result"
    }
   ],
   "source": [
    "c.new_child()"
   ]
  },
  {
   "cell_type": "code",
   "execution_count": 74,
   "metadata": {
    "ExecuteTime": {
     "end_time": "2019-01-13T06:57:33.274195Z",
     "start_time": "2019-01-13T06:57:33.270681Z"
    }
   },
   "outputs": [],
   "source": [
    "@init_dac.enum.unique\n",
    "class Sex(init_dac.enum.Enum):\n",
    "    man = 12\n",
    "    woman = 13"
   ]
  },
  {
   "cell_type": "code",
   "execution_count": 75,
   "metadata": {
    "ExecuteTime": {
     "end_time": "2019-01-13T06:57:53.694170Z",
     "start_time": "2019-01-13T06:57:53.689781Z"
    }
   },
   "outputs": [
    {
     "data": {
      "text/plain": [
       "('man', 12)"
      ]
     },
     "execution_count": 75,
     "metadata": {},
     "output_type": "execute_result"
    }
   ],
   "source": [
    "Sex.man.name, Sex.man.value"
   ]
  },
  {
   "cell_type": "code",
   "execution_count": 87,
   "metadata": {
    "ExecuteTime": {
     "end_time": "2019-01-13T07:03:22.085129Z",
     "start_time": "2019-01-13T07:03:22.081615Z"
    }
   },
   "outputs": [],
   "source": [
    "words = init_dac.enum.Enum(value='item',\n",
    "    names=('a b c d e f'))"
   ]
  },
  {
   "cell_type": "code",
   "execution_count": 88,
   "metadata": {
    "ExecuteTime": {
     "end_time": "2019-01-13T07:03:22.625684Z",
     "start_time": "2019-01-13T07:03:22.621589Z"
    },
    "scrolled": true
   },
   "outputs": [
    {
     "data": {
      "text/plain": [
       "(<item.c: 3>, <item.f: 6>)"
      ]
     },
     "execution_count": 88,
     "metadata": {},
     "output_type": "execute_result"
    }
   ],
   "source": [
    "words.c, words.f"
   ]
  },
  {
   "cell_type": "code",
   "execution_count": 89,
   "metadata": {
    "ExecuteTime": {
     "end_time": "2019-01-13T07:03:24.454376Z",
     "start_time": "2019-01-13T07:03:24.449917Z"
    },
    "scrolled": true
   },
   "outputs": [
    {
     "name": "stdout",
     "output_type": "stream",
     "text": [
      "a 1\n",
      "b 2\n",
      "c 3\n",
      "d 4\n",
      "e 5\n",
      "f 6\n"
     ]
    }
   ],
   "source": [
    "for word in words:\n",
    "    print(word.name, word.value)"
   ]
  },
  {
   "cell_type": "code",
   "execution_count": 82,
   "metadata": {
    "ExecuteTime": {
     "end_time": "2019-01-13T07:02:47.385659Z",
     "start_time": "2019-01-13T07:02:47.381893Z"
    }
   },
   "outputs": [],
   "source": [
    "words = init_dac.enum.Enum(value='item',\n",
    "    names=[('a', 23), ('b', 56), ('c', 12), ('d', 333)])"
   ]
  },
  {
   "cell_type": "code",
   "execution_count": 83,
   "metadata": {
    "ExecuteTime": {
     "end_time": "2019-01-13T07:02:48.065856Z",
     "start_time": "2019-01-13T07:02:48.061880Z"
    },
    "scrolled": true
   },
   "outputs": [
    {
     "name": "stdout",
     "output_type": "stream",
     "text": [
      "a 23\n",
      "b 56\n",
      "c 12\n",
      "d 333\n"
     ]
    }
   ],
   "source": [
    "for word in words:\n",
    "    print(word.name, word.value)"
   ]
  },
  {
   "cell_type": "code",
   "execution_count": 90,
   "metadata": {
    "ExecuteTime": {
     "end_time": "2019-01-13T07:09:11.354821Z",
     "start_time": "2019-01-13T07:09:11.342848Z"
    },
    "scrolled": true
   },
   "outputs": [
    {
     "ename": "NameError",
     "evalue": "name 'var' is not defined",
     "output_type": "error",
     "traceback": [
      "\u001b[0;31m---------------------------------------------------------------------------\u001b[0m",
      "\u001b[0;31mNameError\u001b[0m                                 Traceback (most recent call last)",
      "\u001b[0;32m<ipython-input-90-b7d7d398baa1>\u001b[0m in \u001b[0;36m<module>\u001b[0;34m\u001b[0m\n\u001b[0;32m----> 1\u001b[0;31m \u001b[0mvar\u001b[0m\u001b[0;34m(\u001b[0m\u001b[0;34m)\u001b[0m\u001b[0;34m\u001b[0m\u001b[0;34m\u001b[0m\u001b[0m\n\u001b[0m",
      "\u001b[0;31mNameError\u001b[0m: name 'var' is not defined"
     ]
    }
   ],
   "source": [
    "var()"
   ]
  },
  {
   "cell_type": "code",
   "execution_count": null,
   "metadata": {},
   "outputs": [],
   "source": []
  },
  {
   "cell_type": "code",
   "execution_count": null,
   "metadata": {},
   "outputs": [],
   "source": []
  },
  {
   "cell_type": "code",
   "execution_count": null,
   "metadata": {},
   "outputs": [],
   "source": []
  },
  {
   "cell_type": "code",
   "execution_count": null,
   "metadata": {},
   "outputs": [],
   "source": []
  },
  {
   "cell_type": "code",
   "execution_count": null,
   "metadata": {},
   "outputs": [],
   "source": []
  },
  {
   "cell_type": "code",
   "execution_count": null,
   "metadata": {},
   "outputs": [],
   "source": []
  },
  {
   "cell_type": "code",
   "execution_count": null,
   "metadata": {},
   "outputs": [],
   "source": []
  },
  {
   "cell_type": "code",
   "execution_count": null,
   "metadata": {},
   "outputs": [],
   "source": []
  },
  {
   "cell_type": "code",
   "execution_count": null,
   "metadata": {},
   "outputs": [],
   "source": []
  },
  {
   "cell_type": "code",
   "execution_count": null,
   "metadata": {},
   "outputs": [],
   "source": []
  },
  {
   "cell_type": "code",
   "execution_count": null,
   "metadata": {},
   "outputs": [],
   "source": []
  },
  {
   "cell_type": "code",
   "execution_count": null,
   "metadata": {},
   "outputs": [],
   "source": []
  },
  {
   "cell_type": "code",
   "execution_count": null,
   "metadata": {},
   "outputs": [],
   "source": []
  },
  {
   "cell_type": "code",
   "execution_count": null,
   "metadata": {},
   "outputs": [],
   "source": []
  },
  {
   "cell_type": "code",
   "execution_count": null,
   "metadata": {},
   "outputs": [],
   "source": []
  },
  {
   "cell_type": "code",
   "execution_count": null,
   "metadata": {},
   "outputs": [],
   "source": []
  },
  {
   "cell_type": "code",
   "execution_count": null,
   "metadata": {},
   "outputs": [],
   "source": []
  },
  {
   "cell_type": "code",
   "execution_count": null,
   "metadata": {},
   "outputs": [],
   "source": []
  },
  {
   "cell_type": "code",
   "execution_count": null,
   "metadata": {},
   "outputs": [],
   "source": []
  },
  {
   "cell_type": "code",
   "execution_count": null,
   "metadata": {},
   "outputs": [],
   "source": []
  },
  {
   "cell_type": "code",
   "execution_count": null,
   "metadata": {},
   "outputs": [],
   "source": []
  },
  {
   "cell_type": "code",
   "execution_count": null,
   "metadata": {},
   "outputs": [],
   "source": []
  },
  {
   "cell_type": "code",
   "execution_count": null,
   "metadata": {},
   "outputs": [],
   "source": []
  },
  {
   "cell_type": "code",
   "execution_count": null,
   "metadata": {},
   "outputs": [],
   "source": []
  },
  {
   "cell_type": "code",
   "execution_count": null,
   "metadata": {},
   "outputs": [],
   "source": []
  },
  {
   "cell_type": "code",
   "execution_count": null,
   "metadata": {},
   "outputs": [],
   "source": []
  }
 ],
 "metadata": {
  "hide_input": false,
  "kernelspec": {
   "display_name": "Python 3",
   "language": "python",
   "name": "python3"
  },
  "language_info": {
   "codemirror_mode": {
    "name": "ipython",
    "version": 3
   },
   "file_extension": ".py",
   "mimetype": "text/x-python",
   "name": "python",
   "nbconvert_exporter": "python",
   "pygments_lexer": "ipython3",
   "version": "3.6.7"
  },
  "toc": {
   "base_numbering": 1,
   "nav_menu": {},
   "number_sections": true,
   "sideBar": true,
   "skip_h1_title": false,
   "title_cell": "Table of Contents",
   "title_sidebar": "Contents",
   "toc_cell": false,
   "toc_position": {},
   "toc_section_display": true,
   "toc_window_display": false
  },
  "varInspector": {
   "cols": {
    "lenName": 16,
    "lenType": 16,
    "lenVar": 40
   },
   "kernels_config": {
    "python": {
     "delete_cmd_postfix": "",
     "delete_cmd_prefix": "del ",
     "library": "var_list.py",
     "varRefreshCmd": "print(var_dic_list())"
    },
    "r": {
     "delete_cmd_postfix": ") ",
     "delete_cmd_prefix": "rm(",
     "library": "var_list.r",
     "varRefreshCmd": "cat(var_dic_list()) "
    }
   },
   "types_to_exclude": [
    "module",
    "function",
    "builtin_function_or_method",
    "instance",
    "_Feature"
   ],
   "window_display": false
  }
 },
 "nbformat": 4,
 "nbformat_minor": 2
}
